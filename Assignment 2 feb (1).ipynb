{
 "cells": [
  {
   "cell_type": "code",
   "execution_count": 16,
   "id": "64ec96ad-49f3-40b7-b57e-5cbd43712a03",
   "metadata": {},
   "outputs": [
    {
     "name": "stdout",
     "output_type": "stream",
     "text": [
      "0\n",
      "1\n",
      "2\n",
      "3\n",
      "4\n"
     ]
    }
   ],
   "source": [
    "#Q1: For loop is used when we have to iterate a program for a fixed number of time which is known.\n",
    "#eg:- Program to write number in given rage\n",
    "for i in range(5):\n",
    "     print(i)"
   ]
  },
  {
   "cell_type": "code",
   "execution_count": 5,
   "id": "f2c63967-6ca8-4d23-9c98-e14b1b9a9fde",
   "metadata": {},
   "outputs": [
    {
     "name": "stdin",
     "output_type": "stream",
     "text": [
      " NUMBER OF YOUR CHOICE 7\n"
     ]
    },
    {
     "name": "stdout",
     "output_type": "stream",
     "text": [
      "0\n",
      "1\n",
      "2\n",
      "3\n",
      "4\n",
      "5\n",
      "6\n",
      "7\n"
     ]
    }
   ],
   "source": [
    "# While loop is used when the number of iterations are not fixed.\n",
    "#Example : Program to write integer till the input number\n",
    "Number = int(input(\" NUMBER OF YOUR CHOICE\"))\n",
    "a=0\n",
    "while a <= Number:\n",
    "    print(a)\n",
    "    a=a+1"
   ]
  },
  {
   "cell_type": "code",
   "execution_count": null,
   "id": "6ae1ed44-f9d4-41b7-97a0-79482081646d",
   "metadata": {},
   "outputs": [],
   "source": []
  },
  {
   "cell_type": "code",
   "execution_count": 31,
   "id": "9381ef04-f15b-4350-9c4c-4661fc748a86",
   "metadata": {},
   "outputs": [
    {
     "name": "stdout",
     "output_type": "stream",
     "text": [
      "55\n"
     ]
    }
   ],
   "source": [
    "#Q2 :- SUM OF FIRST 10 NATURAL NUMBER\n",
    "Sum = 0\n",
    "count = 1\n",
    "while count <=10:\n",
    "        Sum = Sum+ count\n",
    "        count = count +1\n",
    "print (Sum)\n",
    "        \n",
    "        \n",
    "            \n",
    "            \n",
    "        "
   ]
  },
  {
   "cell_type": "code",
   "execution_count": null,
   "id": "1d565c79-28b1-45ee-a773-4f7907883afe",
   "metadata": {},
   "outputs": [],
   "source": []
  },
  {
   "cell_type": "code",
   "execution_count": 32,
   "id": "e0003501-dd3a-4b63-9afc-7ecc31d48c06",
   "metadata": {},
   "outputs": [
    {
     "name": "stdout",
     "output_type": "stream",
     "text": [
      "3628800\n"
     ]
    }
   ],
   "source": [
    "#Q2 :- Product OF FIRST 10 NATURAL NUMBER\n",
    "Product = 1\n",
    "count = 1\n",
    "while count <=10:\n",
    "        Product = Product *count\n",
    "        count = count +1\n",
    "print (Product)\n",
    "        \n",
    "        \n",
    "            \n",
    "            \n",
    "        "
   ]
  },
  {
   "cell_type": "code",
   "execution_count": null,
   "id": "befd7377-604b-477e-bec9-8f392580274b",
   "metadata": {},
   "outputs": [],
   "source": [
    "#Q3\n",
    "a= int(input(\"ENTER THE ELECTRICITY UNITS\"))\n",
    "if a<=100:\n",
    "    Elec_bill= a*4.5\n",
    "    print(Elec_bill)\n",
    "elif a<=200:\n",
    "    Elec_bill = (a-100)*6 + (100*4.5)\n",
    "    print(Elec_bill)\n",
    "elif a<=300:\n",
    "    Elec_bill = (a-200)*10 + (100*6) + (100*4.5)\n",
    "    print(Elec_bill)\n",
    "else:\n",
    "    Elec_bill = (a-300)*20 + (100*10) + (100*6) + (100*4.5)\n",
    "    print(Elec_bill)\n",
    "    \n"
   ]
  },
  {
   "cell_type": "code",
   "execution_count": 2,
   "id": "43c25fb5-0d70-4b52-aec1-4bc08ffbb5f0",
   "metadata": {},
   "outputs": [
    {
     "name": "stdout",
     "output_type": "stream",
     "text": [
      "[1, 2, 3, 4, 5, 6, 7, 8, 9, 10, 11, 12, 13, 14, 15, 16, 17, 18, 19, 20, 21, 22, 23, 24, 25, 26, 27, 28, 29, 30, 31, 32, 33, 34, 35, 36, 37, 38, 39, 40, 41, 42, 43, 44, 45, 46, 47, 48, 49, 50, 51, 52, 53, 54, 55, 56, 57, 58, 59, 60, 61, 62, 63, 64, 65, 66, 67, 68, 69, 70, 71, 72, 73, 74, 75, 76, 77, 78, 79, 80, 81, 82, 83, 84, 85, 86, 87, 88, 89, 90, 91, 92, 93, 94, 95, 96, 97, 98, 99, 100]\n"
     ]
    }
   ],
   "source": [
    "#Q4\n",
    "L= []\n",
    "for i in range (1,101):\n",
    "    L.append(i)\n",
    "print(L)"
   ]
  },
  {
   "cell_type": "code",
   "execution_count": 6,
   "id": "7a87f200-0e72-4631-b213-d90cbffc4f6e",
   "metadata": {},
   "outputs": [
    {
     "name": "stdout",
     "output_type": "stream",
     "text": [
      "[1, 8, 27, 64, 125, 216, 343, 512, 729, 1000, 1331, 1728, 2197, 2744, 3375, 4096, 4913, 5832, 6859, 8000, 9261, 10648, 12167, 13824, 15625, 17576, 19683, 21952, 24389, 27000, 29791, 32768, 35937, 39304, 42875, 46656, 50653, 54872, 59319, 64000, 68921, 74088, 79507, 85184, 91125, 97336, 103823, 110592, 117649, 125000, 132651, 140608, 148877, 157464, 166375, 175616, 185193, 195112, 205379, 216000, 226981, 238328, 250047, 262144, 274625, 287496, 300763, 314432, 328509, 343000, 357911, 373248, 389017, 405224, 421875, 438976, 456533, 474552, 493039, 512000, 531441, 551368, 571787, 592704, 614125, 636056, 658503, 681472, 704969, 729000, 753571, 778688, 804357, 830584, 857375, 884736, 912673, 941192, 970299, 1000000]\n"
     ]
    }
   ],
   "source": [
    "L=[]\n",
    "for i in range(1,101):\n",
    "    i = i**3\n",
    "    L.append(i)\n",
    "print(L)"
   ]
  },
  {
   "cell_type": "code",
   "execution_count": 7,
   "id": "60a06850-fa16-47db-9441-2b510a6b9a11",
   "metadata": {},
   "outputs": [
    {
     "name": "stdout",
     "output_type": "stream",
     "text": [
      "[8, 64, 125, 216, 512, 1000, 1728, 2744, 3375, 4096, 5832, 8000, 10648, 13824, 15625, 17576, 21952, 27000, 32768, 39304, 42875, 46656, 54872, 64000, 74088, 85184, 91125, 97336, 110592, 125000, 140608, 157464, 166375, 175616, 195112, 216000, 238328, 262144, 274625, 287496, 314432, 343000, 373248, 405224, 421875, 438976, 474552, 512000, 551368, 592704, 614125, 636056, 681472, 729000, 778688, 830584, 857375, 884736, 941192, 1000000]\n"
     ]
    }
   ],
   "source": [
    "L1=[]\n",
    "for i in L:\n",
    "    if (i%4) == 0 or (i%5)==0:\n",
    "        L1.append(i)\n",
    "print(L1)"
   ]
  },
  {
   "cell_type": "code",
   "execution_count": 7,
   "id": "04640a99-cd22-40cb-b38d-9df589526e47",
   "metadata": {},
   "outputs": [
    {
     "name": "stdout",
     "output_type": "stream",
     "text": [
      "['I', 'a', 'o', 'e', 'o', 'e', 'a', 'a', 'a', 'i', 'e', 'i']\n",
      "12\n"
     ]
    }
   ],
   "source": [
    "#Q5\n",
    "String = ( \"I want to become a data scientist\") \n",
    "List=[]\n",
    "for i in String:\n",
    "    if i == \"a\" or i == \"e\" or i == \"i\" or i == \"o\" or i == \"u\" or i== \"A\" or  i == \"E\" or i == \"O\" or i== \"I\" or i == \"U\":\n",
    "          List.append(i)\n",
    "print(List)\n",
    "print(len(List))"
   ]
  },
  {
   "cell_type": "code",
   "execution_count": null,
   "id": "d3d09fbf-f063-4ef0-bad4-ac17617e06f7",
   "metadata": {},
   "outputs": [],
   "source": []
  },
  {
   "cell_type": "code",
   "execution_count": null,
   "id": "a46059fd-0d9b-4149-a407-f9ed53cdeae0",
   "metadata": {},
   "outputs": [],
   "source": []
  },
  {
   "cell_type": "code",
   "execution_count": null,
   "id": "0f8c89e4-86dd-4ea4-8adc-55e49484e6a9",
   "metadata": {},
   "outputs": [],
   "source": []
  }
 ],
 "metadata": {
  "kernelspec": {
   "display_name": "Python 3 (ipykernel)",
   "language": "python",
   "name": "python3"
  },
  "language_info": {
   "codemirror_mode": {
    "name": "ipython",
    "version": 3
   },
   "file_extension": ".py",
   "mimetype": "text/x-python",
   "name": "python",
   "nbconvert_exporter": "python",
   "pygments_lexer": "ipython3",
   "version": "3.10.8"
  }
 },
 "nbformat": 4,
 "nbformat_minor": 5
}
